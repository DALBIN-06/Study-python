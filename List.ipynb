{
 "cells": [
  {
   "cell_type": "code",
   "execution_count": 1,
   "id": "42fd7fa2",
   "metadata": {},
   "outputs": [
    {
     "name": "stdout",
     "output_type": "stream",
     "text": [
      "jomal\n"
     ]
    }
   ],
   "source": [
    "a='jomal'\n",
    "print(a)"
   ]
  },
  {
   "cell_type": "code",
   "execution_count": 2,
   "id": "8fa75ff6",
   "metadata": {},
   "outputs": [
    {
     "name": "stdout",
     "output_type": "stream",
     "text": [
      "<class 'list'>\n"
     ]
    }
   ],
   "source": [
    "list1=[1,2,4,5,8]\n",
    "print(type(list1))"
   ]
  },
  {
   "cell_type": "code",
   "execution_count": 3,
   "id": "4dc6367e",
   "metadata": {},
   "outputs": [
    {
     "name": "stdout",
     "output_type": "stream",
     "text": [
      "<class 'list'>\n"
     ]
    }
   ],
   "source": [
    "list2=[1,2.5,4,5,8,'a']\n",
    "print(type(list2))"
   ]
  },
  {
   "cell_type": "code",
   "execution_count": 4,
   "id": "8b006d7f",
   "metadata": {},
   "outputs": [
    {
     "data": {
      "text/plain": [
       "[1, 2.5, 4, 5, 8, 'a']"
      ]
     },
     "execution_count": 4,
     "metadata": {},
     "output_type": "execute_result"
    }
   ],
   "source": [
    "list2"
   ]
  },
  {
   "cell_type": "markdown",
   "id": "70b94814",
   "metadata": {},
   "source": [
    "print first value in liat2"
   ]
  },
  {
   "cell_type": "code",
   "execution_count": 5,
   "id": "f7b5745a",
   "metadata": {},
   "outputs": [
    {
     "name": "stdout",
     "output_type": "stream",
     "text": [
      "1\n"
     ]
    }
   ],
   "source": [
    "print(list2[0])"
   ]
  },
  {
   "cell_type": "markdown",
   "id": "850349f5",
   "metadata": {},
   "source": [
    "print 3rd value in list2"
   ]
  },
  {
   "cell_type": "code",
   "execution_count": 6,
   "id": "c2ec2d78",
   "metadata": {},
   "outputs": [
    {
     "name": "stdout",
     "output_type": "stream",
     "text": [
      "5\n"
     ]
    }
   ],
   "source": [
    "print(list2[3])"
   ]
  },
  {
   "cell_type": "code",
   "execution_count": 7,
   "id": "206be0f5",
   "metadata": {
    "scrolled": true
   },
   "outputs": [
    {
     "name": "stdout",
     "output_type": "stream",
     "text": [
      "5\n"
     ]
    }
   ],
   "source": [
    "print(list2[-3])"
   ]
  },
  {
   "cell_type": "markdown",
   "id": "660d9d93",
   "metadata": {},
   "source": [
    "print length of list2"
   ]
  },
  {
   "cell_type": "code",
   "execution_count": 8,
   "id": "5c7434a9",
   "metadata": {},
   "outputs": [
    {
     "name": "stdout",
     "output_type": "stream",
     "text": [
      "6\n"
     ]
    }
   ],
   "source": [
    "print(len(list2))"
   ]
  },
  {
   "cell_type": "code",
   "execution_count": 9,
   "id": "eb7670c4",
   "metadata": {},
   "outputs": [
    {
     "data": {
      "text/plain": [
       "[1, 2.5, 4, 5, 8, 'a']"
      ]
     },
     "execution_count": 9,
     "metadata": {},
     "output_type": "execute_result"
    }
   ],
   "source": [
    "list2"
   ]
  },
  {
   "cell_type": "markdown",
   "id": "dd74b508",
   "metadata": {},
   "source": [
    "print first 3 values of list2"
   ]
  },
  {
   "cell_type": "code",
   "execution_count": 10,
   "id": "159cd01c",
   "metadata": {},
   "outputs": [
    {
     "name": "stdout",
     "output_type": "stream",
     "text": [
      "[1, 2.5, 4]\n"
     ]
    }
   ],
   "source": [
    "print(list2[:3])"
   ]
  },
  {
   "cell_type": "code",
   "execution_count": 11,
   "id": "f743872e",
   "metadata": {},
   "outputs": [
    {
     "name": "stdout",
     "output_type": "stream",
     "text": [
      "[4, 5, 8, 'a']\n"
     ]
    }
   ],
   "source": [
    "print(list2[2:])"
   ]
  },
  {
   "cell_type": "code",
   "execution_count": 12,
   "id": "6db333cc",
   "metadata": {},
   "outputs": [
    {
     "name": "stdout",
     "output_type": "stream",
     "text": [
      "[5, 8, 'a']\n"
     ]
    }
   ],
   "source": [
    "print(list2[-3:])"
   ]
  },
  {
   "cell_type": "code",
   "execution_count": 13,
   "id": "b0e5366a",
   "metadata": {},
   "outputs": [
    {
     "data": {
      "text/plain": [
       "[1, 2.5, 4, 5, 8, 'a']"
      ]
     },
     "execution_count": 13,
     "metadata": {},
     "output_type": "execute_result"
    }
   ],
   "source": [
    "list2"
   ]
  },
  {
   "cell_type": "markdown",
   "id": "3f10cfbc",
   "metadata": {},
   "source": [
    "replace 2.5 to 3"
   ]
  },
  {
   "cell_type": "code",
   "execution_count": 14,
   "id": "b566842f",
   "metadata": {},
   "outputs": [
    {
     "data": {
      "text/plain": [
       "[1, 3, 4, 5, 8, 'a']"
      ]
     },
     "execution_count": 14,
     "metadata": {},
     "output_type": "execute_result"
    }
   ],
   "source": [
    "list2[1]=3\n",
    "list2"
   ]
  },
  {
   "cell_type": "markdown",
   "id": "303f48fc",
   "metadata": {},
   "source": [
    "replace 'a' with 9"
   ]
  },
  {
   "cell_type": "code",
   "execution_count": 15,
   "id": "7643c3e0",
   "metadata": {},
   "outputs": [
    {
     "data": {
      "text/plain": [
       "[1, 3, 4, 5, 8, 9]"
      ]
     },
     "execution_count": 15,
     "metadata": {},
     "output_type": "execute_result"
    }
   ],
   "source": [
    "list2[-1]=9\n",
    "list2"
   ]
  },
  {
   "cell_type": "markdown",
   "id": "25d7db83",
   "metadata": {},
   "source": [
    "add 10 as the last value of list2"
   ]
  },
  {
   "cell_type": "code",
   "execution_count": 16,
   "id": "b87f656e",
   "metadata": {},
   "outputs": [],
   "source": [
    "list2.append(10)"
   ]
  },
  {
   "cell_type": "code",
   "execution_count": 17,
   "id": "53eabc01",
   "metadata": {},
   "outputs": [
    {
     "data": {
      "text/plain": [
       "[1, 3, 4, 5, 8, 9, 10]"
      ]
     },
     "execution_count": 17,
     "metadata": {},
     "output_type": "execute_result"
    }
   ],
   "source": [
    "list2"
   ]
  },
  {
   "cell_type": "code",
   "execution_count": 18,
   "id": "63080451",
   "metadata": {},
   "outputs": [],
   "source": [
    "list2.append(11)"
   ]
  },
  {
   "cell_type": "code",
   "execution_count": 19,
   "id": "ca24d3db",
   "metadata": {},
   "outputs": [
    {
     "data": {
      "text/plain": [
       "[1, 3, 4, 5, 8, 9, 10, 11]"
      ]
     },
     "execution_count": 19,
     "metadata": {},
     "output_type": "execute_result"
    }
   ],
   "source": [
    "list2"
   ]
  },
  {
   "cell_type": "markdown",
   "id": "9f501fec",
   "metadata": {},
   "source": [
    "insert 2 between 1 and 3 in list2"
   ]
  },
  {
   "cell_type": "code",
   "execution_count": 20,
   "id": "5cf96464",
   "metadata": {},
   "outputs": [],
   "source": [
    "list2.insert(1,2)    #here 1 is index number and 2 is new value"
   ]
  },
  {
   "cell_type": "code",
   "execution_count": 21,
   "id": "5afd0e48",
   "metadata": {},
   "outputs": [
    {
     "data": {
      "text/plain": [
       "[1, 2, 3, 4, 5, 8, 9, 10, 11]"
      ]
     },
     "execution_count": 21,
     "metadata": {},
     "output_type": "execute_result"
    }
   ],
   "source": [
    "list2"
   ]
  },
  {
   "cell_type": "code",
   "execution_count": 22,
   "id": "dbe92201",
   "metadata": {},
   "outputs": [],
   "source": [
    "list3=[12,13,14,15]"
   ]
  },
  {
   "cell_type": "markdown",
   "id": "e06d7ddf",
   "metadata": {},
   "source": [
    "print list1 and list2"
   ]
  },
  {
   "cell_type": "code",
   "execution_count": 23,
   "id": "e5469701",
   "metadata": {},
   "outputs": [
    {
     "data": {
      "text/plain": [
       "[1, 2, 3, 4, 5, 8, 9, 10, 11, 12, 13, 14, 15]"
      ]
     },
     "execution_count": 23,
     "metadata": {},
     "output_type": "execute_result"
    }
   ],
   "source": [
    "list2+list3"
   ]
  },
  {
   "cell_type": "code",
   "execution_count": 24,
   "id": "3e024a35",
   "metadata": {},
   "outputs": [],
   "source": [
    "list4=['a','b','c']"
   ]
  },
  {
   "cell_type": "markdown",
   "id": "46bfc07c",
   "metadata": {},
   "source": [
    "or"
   ]
  },
  {
   "cell_type": "code",
   "execution_count": 25,
   "id": "7f1ed534",
   "metadata": {},
   "outputs": [],
   "source": [
    "list2.extend(list4)"
   ]
  },
  {
   "cell_type": "code",
   "execution_count": 26,
   "id": "bb940de8",
   "metadata": {},
   "outputs": [
    {
     "data": {
      "text/plain": [
       "[1, 2, 3, 4, 5, 8, 9, 10, 11, 'a', 'b', 'c']"
      ]
     },
     "execution_count": 26,
     "metadata": {},
     "output_type": "execute_result"
    }
   ],
   "source": [
    "list2"
   ]
  },
  {
   "cell_type": "markdown",
   "id": "02266e76",
   "metadata": {},
   "source": [
    "add 1 at the end of list2"
   ]
  },
  {
   "cell_type": "code",
   "execution_count": 27,
   "id": "e755597e",
   "metadata": {},
   "outputs": [],
   "source": [
    "list2.append(1)"
   ]
  },
  {
   "cell_type": "code",
   "execution_count": 28,
   "id": "80dcd63b",
   "metadata": {},
   "outputs": [
    {
     "data": {
      "text/plain": [
       "[1, 2, 3, 4, 5, 8, 9, 10, 11, 'a', 'b', 'c', 1]"
      ]
     },
     "execution_count": 28,
     "metadata": {},
     "output_type": "execute_result"
    }
   ],
   "source": [
    "list2"
   ]
  },
  {
   "cell_type": "markdown",
   "id": "ed807775",
   "metadata": {},
   "source": [
    "remove last item in a list"
   ]
  },
  {
   "cell_type": "code",
   "execution_count": 29,
   "id": "d08b0fb5",
   "metadata": {
    "scrolled": true
   },
   "outputs": [
    {
     "data": {
      "text/plain": [
       "1"
      ]
     },
     "execution_count": 29,
     "metadata": {},
     "output_type": "execute_result"
    }
   ],
   "source": [
    "list2.pop()"
   ]
  },
  {
   "cell_type": "code",
   "execution_count": 30,
   "id": "ba65c28f",
   "metadata": {},
   "outputs": [
    {
     "data": {
      "text/plain": [
       "'c'"
      ]
     },
     "execution_count": 30,
     "metadata": {},
     "output_type": "execute_result"
    }
   ],
   "source": [
    "list2.pop()"
   ]
  },
  {
   "cell_type": "code",
   "execution_count": 31,
   "id": "85ca7aca",
   "metadata": {},
   "outputs": [
    {
     "data": {
      "text/plain": [
       "[1, 2, 3, 4, 5, 8, 9, 10, 11, 'a', 'b']"
      ]
     },
     "execution_count": 31,
     "metadata": {},
     "output_type": "execute_result"
    }
   ],
   "source": [
    "list2"
   ]
  },
  {
   "cell_type": "code",
   "execution_count": 32,
   "id": "324ea05b",
   "metadata": {},
   "outputs": [
    {
     "data": {
      "text/plain": [
       "2"
      ]
     },
     "execution_count": 32,
     "metadata": {},
     "output_type": "execute_result"
    }
   ],
   "source": [
    "list2.pop(1)"
   ]
  },
  {
   "cell_type": "code",
   "execution_count": 33,
   "id": "67e65379",
   "metadata": {},
   "outputs": [
    {
     "data": {
      "text/plain": [
       "[1, 3, 4, 5, 8, 9, 10, 11, 'a', 'b']"
      ]
     },
     "execution_count": 33,
     "metadata": {},
     "output_type": "execute_result"
    }
   ],
   "source": [
    "list2"
   ]
  },
  {
   "cell_type": "code",
   "execution_count": 34,
   "id": "3c04566f",
   "metadata": {},
   "outputs": [],
   "source": [
    "del list2[3]"
   ]
  },
  {
   "cell_type": "code",
   "execution_count": 35,
   "id": "e82bca22",
   "metadata": {},
   "outputs": [
    {
     "data": {
      "text/plain": [
       "[1, 3, 4, 8, 9, 10, 11, 'a', 'b']"
      ]
     },
     "execution_count": 35,
     "metadata": {},
     "output_type": "execute_result"
    }
   ],
   "source": [
    "list2"
   ]
  },
  {
   "cell_type": "code",
   "execution_count": 36,
   "id": "4b99e081",
   "metadata": {},
   "outputs": [],
   "source": [
    "list2.clear()"
   ]
  },
  {
   "cell_type": "code",
   "execution_count": 37,
   "id": "efc57d37",
   "metadata": {},
   "outputs": [
    {
     "data": {
      "text/plain": [
       "[]"
      ]
     },
     "execution_count": 37,
     "metadata": {},
     "output_type": "execute_result"
    }
   ],
   "source": [
    "list2"
   ]
  },
  {
   "cell_type": "code",
   "execution_count": 38,
   "id": "a7fadce6",
   "metadata": {},
   "outputs": [],
   "source": [
    "del list2"
   ]
  },
  {
   "cell_type": "code",
   "execution_count": 39,
   "id": "d674dde6",
   "metadata": {
    "scrolled": true
   },
   "outputs": [
    {
     "ename": "NameError",
     "evalue": "name 'list2' is not defined",
     "output_type": "error",
     "traceback": [
      "\u001b[1;31m---------------------------------------------------------------------------\u001b[0m",
      "\u001b[1;31mNameError\u001b[0m                                 Traceback (most recent call last)",
      "Cell \u001b[1;32mIn[39], line 1\u001b[0m\n\u001b[1;32m----> 1\u001b[0m \u001b[43mlist2\u001b[49m\n",
      "\u001b[1;31mNameError\u001b[0m: name 'list2' is not defined"
     ]
    }
   ],
   "source": [
    "list2"
   ]
  },
  {
   "cell_type": "code",
   "execution_count": 40,
   "id": "94aff2e1",
   "metadata": {},
   "outputs": [
    {
     "name": "stdout",
     "output_type": "stream",
     "text": [
      "1\n"
     ]
    }
   ],
   "source": [
    "list5=[1,2,3,[1,2,4,5]]\n",
    "print(list5[3][0])"
   ]
  },
  {
   "cell_type": "markdown",
   "id": "b6fa2129",
   "metadata": {},
   "source": [
    "create a list"
   ]
  },
  {
   "cell_type": "code",
   "execution_count": 41,
   "id": "9cb8be86",
   "metadata": {},
   "outputs": [],
   "source": [
    "item=['apple','orange','grape']"
   ]
  },
  {
   "cell_type": "markdown",
   "id": "fce40805",
   "metadata": {},
   "source": [
    "print second item"
   ]
  },
  {
   "cell_type": "code",
   "execution_count": 42,
   "id": "0c01e748",
   "metadata": {},
   "outputs": [
    {
     "name": "stdout",
     "output_type": "stream",
     "text": [
      "orange\n"
     ]
    }
   ],
   "source": [
    "print(item[1])"
   ]
  },
  {
   "cell_type": "markdown",
   "id": "24a178f9",
   "metadata": {},
   "source": [
    "add an item watermelon to the list"
   ]
  },
  {
   "cell_type": "code",
   "execution_count": 43,
   "id": "4da50f12",
   "metadata": {},
   "outputs": [
    {
     "data": {
      "text/plain": [
       "['apple', 'orange', 'grape', 'watermelon']"
      ]
     },
     "execution_count": 43,
     "metadata": {},
     "output_type": "execute_result"
    }
   ],
   "source": [
    "item=item+['watermelon']\n",
    "item"
   ]
  },
  {
   "cell_type": "markdown",
   "id": "0a275079",
   "metadata": {},
   "source": [
    "remove orange"
   ]
  },
  {
   "cell_type": "code",
   "execution_count": 44,
   "id": "95faa81c",
   "metadata": {},
   "outputs": [
    {
     "data": {
      "text/plain": [
       "['apple', 'grape', 'watermelon']"
      ]
     },
     "execution_count": 44,
     "metadata": {},
     "output_type": "execute_result"
    }
   ],
   "source": [
    "del item[1]\n",
    "item"
   ]
  },
  {
   "cell_type": "markdown",
   "id": "142df783",
   "metadata": {},
   "source": [
    "print last item of the list"
   ]
  },
  {
   "cell_type": "code",
   "execution_count": 45,
   "id": "0e28101b",
   "metadata": {},
   "outputs": [
    {
     "name": "stdout",
     "output_type": "stream",
     "text": [
      "watermelon\n"
     ]
    }
   ],
   "source": [
    "print(item[-1])"
   ]
  },
  {
   "cell_type": "markdown",
   "id": "a40dff26",
   "metadata": {},
   "source": [
    "print number of items in the list"
   ]
  },
  {
   "cell_type": "code",
   "execution_count": 46,
   "id": "c1592d00",
   "metadata": {},
   "outputs": [
    {
     "name": "stdout",
     "output_type": "stream",
     "text": [
      "3\n"
     ]
    }
   ],
   "source": [
    "print(len(item))"
   ]
  },
  {
   "cell_type": "markdown",
   "id": "454306c8",
   "metadata": {},
   "source": [
    "change the value apple to chilly"
   ]
  },
  {
   "cell_type": "code",
   "execution_count": null,
   "id": "4de5a539",
   "metadata": {},
   "outputs": [],
   "source": [
    "item[0]='chilly'\n",
    "item"
   ]
  },
  {
   "cell_type": "markdown",
   "id": "a7d86b78",
   "metadata": {},
   "source": [
    "insert items veg1, veg2 to the list"
   ]
  },
  {
   "cell_type": "code",
   "execution_count": null,
   "id": "1def9faa",
   "metadata": {},
   "outputs": [],
   "source": [
    "item=item+['veg1','veg2']\n",
    "item"
   ]
  },
  {
   "cell_type": "markdown",
   "id": "354a212d",
   "metadata": {},
   "source": [
    "insert mango to the 2nd position of the list"
   ]
  },
  {
   "cell_type": "code",
   "execution_count": null,
   "id": "bc51052f",
   "metadata": {},
   "outputs": [],
   "source": [
    "item.insert(1,'mango')\n",
    "item"
   ]
  },
  {
   "cell_type": "markdown",
   "id": "0ebcd408",
   "metadata": {},
   "source": [
    "insert another list into given list"
   ]
  },
  {
   "cell_type": "code",
   "execution_count": null,
   "id": "3eb8c0a4",
   "metadata": {},
   "outputs": [],
   "source": [
    "item1=['veg3','veg4','veg5']\n",
    "item=item+item1\n",
    "item"
   ]
  },
  {
   "cell_type": "code",
   "execution_count": null,
   "id": "14e2f998",
   "metadata": {},
   "outputs": [],
   "source": []
  }
 ],
 "metadata": {
  "kernelspec": {
   "display_name": "Python 3 (ipykernel)",
   "language": "python",
   "name": "python3"
  },
  "language_info": {
   "codemirror_mode": {
    "name": "ipython",
    "version": 3
   },
   "file_extension": ".py",
   "mimetype": "text/x-python",
   "name": "python",
   "nbconvert_exporter": "python",
   "pygments_lexer": "ipython3",
   "version": "3.10.9"
  }
 },
 "nbformat": 4,
 "nbformat_minor": 5
}
